{
 "cells": [
  {
   "cell_type": "markdown",
   "metadata": {},
   "source": [
    "# Required Libraries\n",
    "\n",
    "#### Make sure to change Jupyter Notebook Kernel to .NET Interactive for csharp (must have Polyglot Notebooks extension on Visual Studio Code)"
   ]
  },
  {
   "cell_type": "code",
   "execution_count": 126,
   "metadata": {
    "dotnet_interactive": {
     "language": "csharp"
    },
    "polyglot_notebook": {
     "kernelName": "csharp"
    },
    "vscode": {
     "languageId": "polyglot-notebook"
    }
   },
   "outputs": [
    {
     "data": {
      "text/html": [
       "<div><div></div><div></div><div><strong>Installed Packages</strong><ul><li><span>Neo4j.Driver, 5.25.0</span></li></ul></div></div>"
      ]
     },
     "metadata": {},
     "output_type": "display_data"
    }
   ],
   "source": [
    "// dotnet tool install --global Microsoft.dotnet-interactive\n",
    "\n",
    "// dotnet interactive jupyter install\n",
    "\n",
    "// dotnet add package Neo4j.Driver --version 5.25.0\n",
    "\n",
    "#r \"nuget: Neo4j.Driver, 5.25.0\"\n"
   ]
  },
  {
   "cell_type": "markdown",
   "metadata": {},
   "source": [
    "# Open Database Connection"
   ]
  },
  {
   "cell_type": "code",
   "execution_count": 127,
   "metadata": {
    "dotnet_interactive": {
     "language": "csharp"
    },
    "polyglot_notebook": {
     "kernelName": "csharp"
    },
    "vscode": {
     "languageId": "polyglot-notebook"
    }
   },
   "outputs": [],
   "source": [
    "using Neo4j.Driver;\n",
    "\n",
    "public class Neo4jConnection\n",
    "{\n",
    "    private static IDriver driver;\n",
    "\n",
    "    public static IDriver ConnectDatabase(string uri, string username, string password)\n",
    "    {\n",
    "        driver = GraphDatabase.Driver(uri, AuthTokens.Basic(username, password));\n",
    "        return driver;\n",
    "    }\n",
    "\n",
    "    public static void CloseConnection()\n",
    "    {\n",
    "        driver?.Dispose();\n",
    "    }\n",
    "}\n"
   ]
  },
  {
   "cell_type": "markdown",
   "metadata": {},
   "source": [
    "## CreateUser()"
   ]
  },
  {
   "cell_type": "code",
   "execution_count": 128,
   "metadata": {
    "dotnet_interactive": {
     "language": "csharp"
    },
    "polyglot_notebook": {
     "kernelName": "csharp"
    },
    "vscode": {
     "languageId": "polyglot-notebook"
    }
   },
   "outputs": [],
   "source": [
    "public async Task CreateUserNode(IDriver driver, Dictionary<string, string> userData)\n",
    "{\n",
    "    var query = @\"\n",
    "    CREATE (u:User {\n",
    "        username: $username, \n",
    "        name: $name, \n",
    "        email: $email, \n",
    "        phone: $phone\n",
    "    })\n",
    "    \";\n",
    "\n",
    "    // Run the query with the parameters\n",
    "    var session = driver.AsyncSession();  // Open a session for Neo4j\n",
    "    try\n",
    "    {\n",
    "        await session.RunAsync(query, new { \n",
    "            username = userData[\"username\"], \n",
    "            name = userData[\"name\"], \n",
    "            email = userData[\"email\"], \n",
    "            phone = userData[\"phone\"]\n",
    "        });\n",
    "        Console.WriteLine($\"User {userData[\"username\"]} created!\");\n",
    "    }\n",
    "    finally\n",
    "    {\n",
    "        await session.CloseAsync();  // Ensure session is closed after query\n",
    "    }\n",
    "}"
   ]
  },
  {
   "cell_type": "markdown",
   "metadata": {},
   "source": [
    "#### User Data"
   ]
  },
  {
   "cell_type": "code",
   "execution_count": 129,
   "metadata": {
    "dotnet_interactive": {
     "language": "csharp"
    },
    "polyglot_notebook": {
     "kernelName": "csharp"
    },
    "vscode": {
     "languageId": "polyglot-notebook"
    }
   },
   "outputs": [],
   "source": [
    "// User 1 Data\n",
    "var user1Data = new Dictionary<string, string> {\n",
    "    { \"username\", \"brody675\" },\n",
    "    { \"name\", \"Brody\" },\n",
    "    { \"email\", \"brodykerr675@gmail.com\" },\n",
    "    { \"phone\", \"832-600-8473\" }\n",
    "};\n",
    "\n",
    "// User 2 Data\n",
    "var user2Data = new Dictionary<string, string> {\n",
    "    { \"username\", \"jared123\" },\n",
    "    { \"name\", \"Jared\" },\n",
    "    { \"email\", \"jared123@gmail.com\" },\n",
    "    { \"phone\", \"123-456-7890\" }\n",
    "};\n"
   ]
  },
  {
   "cell_type": "markdown",
   "metadata": {},
   "source": [
    "## CreatePantry()"
   ]
  },
  {
   "cell_type": "code",
   "execution_count": 130,
   "metadata": {
    "dotnet_interactive": {
     "language": "csharp"
    },
    "polyglot_notebook": {
     "kernelName": "csharp"
    },
    "vscode": {
     "languageId": "polyglot-notebook"
    }
   },
   "outputs": [],
   "source": [
    "public async Task CreatePantryNode(IDriver driver, string username)\n",
    "{\n",
    "    var query = @\"\n",
    "    MATCH (user:User{username: $user})\n",
    "    CREATE (pantry:Pantry {name: $pantryName})\n",
    "    CREATE (user)-[:OWNS]->(pantry)\n",
    "    \";\n",
    "    var pantryName = username + \"Pantry\";\n",
    "\n",
    "    var session = driver.AsyncSession();\n",
    "    try\n",
    "    {\n",
    "        await session.RunAsync(query, new { pantryName, user = username });\n",
    "        Console.WriteLine($\"Pantry node {pantryName} created!\");\n",
    "    }\n",
    "    finally\n",
    "    {\n",
    "        await session.CloseAsync();\n",
    "    }\n",
    "}"
   ]
  },
  {
   "cell_type": "markdown",
   "metadata": {},
   "source": [
    "## CreateCuisine()"
   ]
  },
  {
   "cell_type": "code",
   "execution_count": 131,
   "metadata": {
    "dotnet_interactive": {
     "language": "csharp"
    },
    "polyglot_notebook": {
     "kernelName": "csharp"
    },
    "vscode": {
     "languageId": "polyglot-notebook"
    }
   },
   "outputs": [],
   "source": [
    "public async Task CreateCuisineNode(IDriver driver, string cuisine)\n",
    "{\n",
    "    var query = @\"CREATE (cuisine:Cuisine {name: $cuisineName})\";\n",
    "\n",
    "    var session = driver.AsyncSession();\n",
    "    try\n",
    "    {\n",
    "        await session.RunAsync(query, new { cuisineName = cuisine });\n",
    "        Console.WriteLine($\"Cuisine node {cuisine} created!\");\n",
    "    }\n",
    "    finally\n",
    "    {\n",
    "        await session.CloseAsync();\n",
    "    }\n",
    "}\n"
   ]
  },
  {
   "cell_type": "markdown",
   "metadata": {},
   "source": [
    "## CreateRecipe()"
   ]
  },
  {
   "cell_type": "code",
   "execution_count": 132,
   "metadata": {
    "dotnet_interactive": {
     "language": "csharp"
    },
    "polyglot_notebook": {
     "kernelName": "csharp"
    },
    "vscode": {
     "languageId": "polyglot-notebook"
    }
   },
   "outputs": [],
   "source": [
    "public async Task CreateRecipeNode(IDriver driver, string username, Dictionary<string, string> recipeData)\n",
    "{\n",
    "    var query = @\"\n",
    "    MATCH (user:User {username: $user})\n",
    "    CREATE (recipe:Recipe {\n",
    "        name: $recipeName, \n",
    "        title: $title, \n",
    "        description: $description\n",
    "    })\n",
    "    CREATE (user)-[:OWNS]->(recipe)\n",
    "    \";\n",
    "\n",
    "    var recipeName = username + recipeData[\"name\"];\n",
    "\n",
    "    var session = driver.AsyncSession();\n",
    "    try\n",
    "    {\n",
    "        await session.RunAsync(query, new { \n",
    "            user = username,\n",
    "            recipeName, \n",
    "            title = recipeData[\"title\"], \n",
    "            description = recipeData[\"description\"]\n",
    "        });\n",
    "        Console.WriteLine($\"Recipe {recipeName} created!\");\n",
    "    }\n",
    "    finally\n",
    "    {\n",
    "        await session.CloseAsync();\n",
    "    }\n",
    "}"
   ]
  },
  {
   "cell_type": "markdown",
   "metadata": {},
   "source": [
    "## GetRecipes()"
   ]
  },
  {
   "cell_type": "code",
   "execution_count": 133,
   "metadata": {
    "dotnet_interactive": {
     "language": "csharp"
    },
    "polyglot_notebook": {
     "kernelName": "csharp"
    },
    "vscode": {
     "languageId": "polyglot-notebook"
    }
   },
   "outputs": [],
   "source": [
    "public async Task<List<string>> GetRecipeNodes(IDriver driver, string username)\n",
    "{\n",
    "    var query = @\"\n",
    "    MATCH (user:User)-[:OWNS]->(recipe:Recipe)\n",
    "    RETURN recipe.name AS recipeName\n",
    "    \";\n",
    "\n",
    "    var session = driver.AsyncSession();\n",
    "    var recipeNames = new List<string>();\n",
    "\n",
    "    try\n",
    "    {\n",
    "        // Run the query and fetch the results\n",
    "        var result = await session.RunAsync(query, new { username });\n",
    "\n",
    "        // Iterate through the result set and extract recipe names\n",
    "        await result.ForEachAsync(record =>\n",
    "        {\n",
    "            // Add each recipe name to the list\n",
    "            recipeNames.Add(record[\"recipeName\"].As<string>());\n",
    "        });\n",
    "\n",
    "        Console.WriteLine($\"Found {recipeNames.Count} recipes for user {username}!\");\n",
    "    }\n",
    "    finally\n",
    "    {\n",
    "        // Ensure session is closed after query\n",
    "        await session.CloseAsync();\n",
    "    }\n",
    "\n",
    "    // Return the list of recipe names\n",
    "    return recipeNames;\n",
    "}\n"
   ]
  },
  {
   "cell_type": "markdown",
   "metadata": {},
   "source": [
    "#### Recipe Data"
   ]
  },
  {
   "cell_type": "code",
   "execution_count": 134,
   "metadata": {
    "dotnet_interactive": {
     "language": "csharp"
    },
    "polyglot_notebook": {
     "kernelName": "csharp"
    },
    "vscode": {
     "languageId": "polyglot-notebook"
    }
   },
   "outputs": [],
   "source": [
    "var recipe1Data = new Dictionary<string, string> {\n",
    "    { \"name\", \"BananaBread\" },\n",
    "    { \"title\", \"Brody's Favorite Banana Bread\" },\n",
    "    { \"description\", \"Has good moistness, will save for future\" }\n",
    "};\n",
    "\n",
    "var recipe2Data = new Dictionary<string, string> {\n",
    "    { \"name\", \"GrilledCheese\" },\n",
    "    { \"title\", \"Brody's Favorite Sammich\" },\n",
    "    { \"description\", \"Very cheesy and crispy :D\" }\n",
    "};\n",
    "\n",
    "var recipe3Data = new Dictionary<string, string> {\n",
    "    { \"name\", \"Chili\" },\n",
    "    { \"title\", \"Brody's Favorite Chili\" },\n",
    "    { \"description\", \"Very spicy\" }\n",
    "};"
   ]
  },
  {
   "cell_type": "markdown",
   "metadata": {},
   "source": [
    "## CreateIngredient()"
   ]
  },
  {
   "cell_type": "code",
   "execution_count": 135,
   "metadata": {
    "dotnet_interactive": {
     "language": "csharp"
    },
    "polyglot_notebook": {
     "kernelName": "csharp"
    },
    "vscode": {
     "languageId": "polyglot-notebook"
    }
   },
   "outputs": [],
   "source": [
    "public async Task CreateIngredientNode(IDriver driver, string username, string ingredient)\n",
    "{\n",
    "    var query = @\"CREATE (ingredient:Ingredient {name: $ingredientName})\";\n",
    "\n",
    "    var ingredientName = username + ingredient;\n",
    "\n",
    "    var session = driver.AsyncSession();\n",
    "    try\n",
    "    {\n",
    "        await session.RunAsync(query, new { ingredientName });\n",
    "        Console.WriteLine($\"Ingredient node {ingredient} created!\");\n",
    "    }\n",
    "    finally\n",
    "    {\n",
    "        await session.CloseAsync();\n",
    "    }\n",
    "}\n"
   ]
  },
  {
   "cell_type": "markdown",
   "metadata": {},
   "source": [
    "## MergeIngredient()"
   ]
  },
  {
   "cell_type": "code",
   "execution_count": 136,
   "metadata": {
    "dotnet_interactive": {
     "language": "csharp"
    },
    "polyglot_notebook": {
     "kernelName": "csharp"
    },
    "vscode": {
     "languageId": "polyglot-notebook"
    }
   },
   "outputs": [],
   "source": [
    "public async Task ConnectIngredientNode(IDriver driver, string username, string parent, string ingredient)\n",
    "{\n",
    "    string query;\n",
    "    if(parent.Contains(\"Pantry\"))\n",
    "    {\n",
    "        query = @\"\n",
    "        MATCH (parent:Pantry{name:$parentName})\n",
    "        MATCH (ingredient:Ingredient{name:$ingredientName})\n",
    "        CREATE (parent)-[:STORES]->(ingredient)\n",
    "        \";\n",
    "    }\n",
    "    else if(parent.Contains(\"ShopppingList\"))\n",
    "    {\n",
    "        query = @\"\n",
    "        MATCH (parent:ShoppingList{name:$parentName})\n",
    "        MATCH (ingredient:Ingredient{name:$ingredientName})\n",
    "        CREATE (parent)-[:PLANS_TO_BUY]->(ingredient)\n",
    "        \";\n",
    "    }\n",
    "    else\n",
    "    {\n",
    "        query = @\"\n",
    "        MATCH (parent:Recipe{name:$parentName})\n",
    "        MATCH (ingredient:Ingredient{name:$ingredientName})\n",
    "        CREATE (parent)-[:MADE_WITH]->(ingredient)\n",
    "        \";\n",
    "    }\n",
    "    var parentName = username + parent;\n",
    "    var ingredientName = username + ingredient;\n",
    "\n",
    "    var session = driver.AsyncSession();\n",
    "    try\n",
    "    {\n",
    "        await session.RunAsync(query, new { parentName, ingredientName });\n",
    "        Console.WriteLine($\"Parent node {parentName} connected to {ingredient}!\");\n",
    "    }\n",
    "    finally\n",
    "    {\n",
    "        await session.CloseAsync();\n",
    "    }\n",
    "}"
   ]
  },
  {
   "cell_type": "markdown",
   "metadata": {},
   "source": [
    "#### Ingredient Data\n",
    "\n",
    "This list would come from each recipe, shopping list, or pantry"
   ]
  },
  {
   "cell_type": "code",
   "execution_count": 137,
   "metadata": {
    "dotnet_interactive": {
     "language": "csharp"
    },
    "polyglot_notebook": {
     "kernelName": "csharp"
    },
    "vscode": {
     "languageId": "polyglot-notebook"
    }
   },
   "outputs": [],
   "source": [
    "var ingredients1 = new List<string> {\n",
    "    \"Flour\", \"Baking Soda\", \"Salt\", \"Brown Sugar\", \"Butter\", \"Eggs\", \"Bananas\"\n",
    "};\n",
    "\n",
    "var ingredients2 = new List<string> {\n",
    "    \"White Bread\", \"Butter\", \"Cheddar Cheese\"\n",
    "}; \n",
    "\n",
    "var ingredients3 = new List<string> {\n",
    "    \"Beef\", \"Onion\", \"Tomato Sauce\", \"Kidney Beans\", \"Can Stewed Tomatos\", \"Water\", \"Chili Powder\", \"Garlic Powder\", \"Black Pepper\", \"Salt\"\n",
    "};"
   ]
  },
  {
   "cell_type": "markdown",
   "metadata": {},
   "source": [
    "## CreateCookbook() & MergeCookbook() combined"
   ]
  },
  {
   "cell_type": "code",
   "execution_count": 138,
   "metadata": {
    "dotnet_interactive": {
     "language": "csharp"
    },
    "polyglot_notebook": {
     "kernelName": "csharp"
    },
    "vscode": {
     "languageId": "polyglot-notebook"
    }
   },
   "outputs": [],
   "source": [
    "public async Task CreateCookbookNode(IDriver driver, string username, string name)\n",
    "{\n",
    "    var query = @\"\n",
    "        MATCH (user:User{username: $user})\n",
    "        CREATE (cookbook:Cookbook {name: $cookbookName})\n",
    "        CREATE (user)-[:OWNS]->(cookbook)\n",
    "    \";\n",
    "\n",
    "    var cookbookName = username + name; \n",
    "\n",
    "    var session = driver.AsyncSession();\n",
    "    try\n",
    "    {\n",
    "        await session.RunAsync(query, new { cookbookName });\n",
    "        Console.WriteLine($\"Cookbook node {cookbookName} created!\");\n",
    "    }\n",
    "    finally\n",
    "    {\n",
    "        await session.CloseAsync();\n",
    "    }\n",
    "}"
   ]
  },
  {
   "cell_type": "markdown",
   "metadata": {},
   "source": [
    "## CreateTool()"
   ]
  },
  {
   "cell_type": "code",
   "execution_count": 139,
   "metadata": {
    "dotnet_interactive": {
     "language": "csharp"
    },
    "polyglot_notebook": {
     "kernelName": "csharp"
    },
    "vscode": {
     "languageId": "polyglot-notebook"
    }
   },
   "outputs": [],
   "source": []
  },
  {
   "cell_type": "markdown",
   "metadata": {},
   "source": [
    "## CreateGroup()"
   ]
  },
  {
   "cell_type": "code",
   "execution_count": 140,
   "metadata": {
    "dotnet_interactive": {
     "language": "csharp"
    },
    "polyglot_notebook": {
     "kernelName": "csharp"
    },
    "vscode": {
     "languageId": "polyglot-notebook"
    }
   },
   "outputs": [],
   "source": [
    "public async Task CreateGroupNode(IDriver driver, string group)\n",
    "{\n",
    "    var query = @\"CREATE (group:Group {name: $groupName})\";\n",
    "\n",
    "    var session = driver.AsyncSession();\n",
    "    try\n",
    "    {\n",
    "        await session.RunAsync(query, new { groupName = group });\n",
    "        Console.WriteLine($\"Group node {group} created!\");\n",
    "    }\n",
    "    finally\n",
    "    {\n",
    "        await session.CloseAsync();\n",
    "    }\n",
    "}\n"
   ]
  },
  {
   "cell_type": "markdown",
   "metadata": {},
   "source": [
    "## CreateShopList()"
   ]
  },
  {
   "cell_type": "code",
   "execution_count": 141,
   "metadata": {
    "dotnet_interactive": {
     "language": "csharp"
    },
    "polyglot_notebook": {
     "kernelName": "csharp"
    },
    "vscode": {
     "languageId": "polyglot-notebook"
    }
   },
   "outputs": [],
   "source": [
    "public async Task CreateShoppingListNode(IDriver driver, string username)\n",
    "{\n",
    "    var query = @\"CREATE (shoppinglist:ShoppingList {name: $shoppinglistName})\";\n",
    "    var shoppingListName = username + \"ShoppingList\";\n",
    "\n",
    "    var session = driver.AsyncSession();\n",
    "    try\n",
    "    {\n",
    "        await session.RunAsync(query, new { shoppinglistName = shoppingListName });\n",
    "        Console.WriteLine($\"Shopping List node {shoppingListName} created!\");\n",
    "    }\n",
    "    finally\n",
    "    {\n",
    "        await session.CloseAsync();\n",
    "    }\n",
    "}\n"
   ]
  },
  {
   "cell_type": "markdown",
   "metadata": {},
   "source": [
    "## CreateMeal()"
   ]
  },
  {
   "cell_type": "code",
   "execution_count": 142,
   "metadata": {
    "dotnet_interactive": {
     "language": "csharp"
    },
    "polyglot_notebook": {
     "kernelName": "csharp"
    },
    "vscode": {
     "languageId": "polyglot-notebook"
    }
   },
   "outputs": [],
   "source": [
    "public async Task CreateMealNode(IDriver driver, string username, string meal)\n",
    "{\n",
    "    var query = @\"\n",
    "    CREATE (meal:Meal {\n",
    "        name: $mealName,\n",
    "        title: $meal\n",
    "    })\n",
    "    \";\n",
    "    var mealName = username + meal;\n",
    "\n",
    "    var session = driver.AsyncSession();\n",
    "    try\n",
    "    {\n",
    "        await session.RunAsync(query, new { mealName, meal });\n",
    "        Console.WriteLine($\"Meal node {mealName} created!\");\n",
    "    }\n",
    "    finally\n",
    "    {\n",
    "        await session.CloseAsync();\n",
    "    }\n",
    "}\n"
   ]
  },
  {
   "cell_type": "markdown",
   "metadata": {},
   "source": [
    "## MergeMeal()"
   ]
  },
  {
   "cell_type": "code",
   "execution_count": 143,
   "metadata": {
    "dotnet_interactive": {
     "language": "csharp"
    },
    "polyglot_notebook": {
     "kernelName": "csharp"
    },
    "vscode": {
     "languageId": "polyglot-notebook"
    }
   },
   "outputs": [],
   "source": [
    "public async Task ConnectMealNode(IDriver driver, string username, string meal, string recipe)\n",
    "{\n",
    "    var query = @\"\n",
    "    MATCH (meal:Meal{name:$mealName})\n",
    "    MATCH (recipe:Recipe{name:$recipeName})\n",
    "    CREATE (meal)-[:MADE_WITH]->(recipe)\n",
    "    \";\n",
    "    var mealName = username + meal;\n",
    "    var recipeName = username + recipe;\n",
    "\n",
    "    var session = driver.AsyncSession();\n",
    "    try\n",
    "    {\n",
    "        await session.RunAsync(query, new { mealName, recipeName });\n",
    "        Console.WriteLine($\"Meal node {mealName} connected to {recipe}!\");\n",
    "    }\n",
    "    finally\n",
    "    {\n",
    "        await session.CloseAsync();\n",
    "    }\n",
    "}\n"
   ]
  },
  {
   "cell_type": "markdown",
   "metadata": {},
   "source": [
    "#### Meal Data"
   ]
  },
  {
   "cell_type": "code",
   "execution_count": 144,
   "metadata": {
    "dotnet_interactive": {
     "language": "csharp"
    },
    "polyglot_notebook": {
     "kernelName": "csharp"
    },
    "vscode": {
     "languageId": "polyglot-notebook"
    }
   },
   "outputs": [],
   "source": [
    "// Meal 1 Data\n",
    "var meal1Data = new List<string> { \"GrilledCheese\", \"Chili\" };\n",
    "var meal1Title = \"Grilled Cheese w/Chili\";\n"
   ]
  },
  {
   "cell_type": "markdown",
   "metadata": {},
   "source": [
    "## CreateMeatPlan()"
   ]
  },
  {
   "cell_type": "code",
   "execution_count": 145,
   "metadata": {
    "dotnet_interactive": {
     "language": "csharp"
    },
    "polyglot_notebook": {
     "kernelName": "csharp"
    },
    "vscode": {
     "languageId": "polyglot-notebook"
    }
   },
   "outputs": [],
   "source": []
  },
  {
   "cell_type": "markdown",
   "metadata": {},
   "source": [
    "## CreateStep()"
   ]
  },
  {
   "cell_type": "code",
   "execution_count": 146,
   "metadata": {
    "dotnet_interactive": {
     "language": "csharp"
    },
    "polyglot_notebook": {
     "kernelName": "csharp"
    },
    "vscode": {
     "languageId": "polyglot-notebook"
    }
   },
   "outputs": [],
   "source": [
    "public async Task CreateStepNode(IDriver driver, string username, Dictionary<string, object> stepData, string recipe)\n",
    "{\n",
    "    var query = @\"\n",
    "    MATCH (recipe:Recipe {name: $recipeName})\n",
    "    CREATE (step:Step {\n",
    "        description: $description,\n",
    "        step_number: $stepNumber\n",
    "    })\n",
    "    CREATE (recipe)-[:HAS_STEP]->(step)\n",
    "    \";\n",
    "\n",
    "    var recipeName = username + recipe;\n",
    "\n",
    "    var session = driver.AsyncSession();\n",
    "    try\n",
    "    {\n",
    "        await session.RunAsync(query, new { \n",
    "            description = stepData[\"description\"], \n",
    "            stepNumber = stepData[\"step_number\"], \n",
    "            recipeName \n",
    "        });\n",
    "        Console.WriteLine($\"Step {stepData[\"step_number\"]} created for {recipeName}!\");\n",
    "    }\n",
    "    finally\n",
    "    {\n",
    "        await session.CloseAsync();\n",
    "    }\n",
    "}\n"
   ]
  },
  {
   "cell_type": "markdown",
   "metadata": {},
   "source": [
    "#### Step Data"
   ]
  },
  {
   "cell_type": "code",
   "execution_count": 147,
   "metadata": {
    "dotnet_interactive": {
     "language": "csharp"
    },
    "polyglot_notebook": {
     "kernelName": "csharp"
    },
    "vscode": {
     "languageId": "polyglot-notebook"
    }
   },
   "outputs": [],
   "source": [
    "// Step 1 Data\n",
    "var step1Data = new Dictionary<string, object> {\n",
    "    { \"step_number\", 1 },\n",
    "    { \"description\", \"Preheat a nonstick skillet over medium heat...\" }\n",
    "};\n",
    "\n",
    "// Step 2 Data\n",
    "var step2Data = new Dictionary<string, object> {\n",
    "    { \"step_number\", 2 },\n",
    "    { \"description\", \"Cook until lightly browned on one side...\" }\n",
    "};\n"
   ]
  },
  {
   "cell_type": "markdown",
   "metadata": {},
   "source": [
    "## CreateTag()"
   ]
  },
  {
   "cell_type": "code",
   "execution_count": 148,
   "metadata": {
    "dotnet_interactive": {
     "language": "csharp"
    },
    "polyglot_notebook": {
     "kernelName": "csharp"
    },
    "vscode": {
     "languageId": "polyglot-notebook"
    }
   },
   "outputs": [],
   "source": [
    "public async Task CreateTagNode(IDriver driver, string tag, string recipe, string username)\n",
    "{\n",
    "    var query = @\"\n",
    "    MATCH (recipe:Recipe {name: $recipeName})\n",
    "    CREATE (tag:Tag {name: $tagName})\n",
    "    CREATE (recipe)-[:TAGGED_WITH]->(tag)\n",
    "    \";\n",
    "\n",
    "    var recipeName = username + recipe;\n",
    "\n",
    "    var session = driver.AsyncSession();\n",
    "    try\n",
    "    {\n",
    "        await session.RunAsync(query, new { tagName = tag, recipeName });\n",
    "        Console.WriteLine($\"Tag {tag} created and connected to {recipeName}!\");\n",
    "    }\n",
    "    finally\n",
    "    {\n",
    "        await session.CloseAsync();\n",
    "    }\n",
    "}\n"
   ]
  },
  {
   "cell_type": "markdown",
   "metadata": {},
   "source": [
    "#### Tag Data"
   ]
  },
  {
   "cell_type": "code",
   "execution_count": 149,
   "metadata": {
    "dotnet_interactive": {
     "language": "csharp"
    },
    "polyglot_notebook": {
     "kernelName": "csharp"
    },
    "vscode": {
     "languageId": "polyglot-notebook"
    }
   },
   "outputs": [],
   "source": [
    "var tag = \"Spicy\";"
   ]
  },
  {
   "cell_type": "markdown",
   "metadata": {},
   "source": [
    "# Main"
   ]
  },
  {
   "cell_type": "code",
   "execution_count": 150,
   "metadata": {
    "dotnet_interactive": {
     "language": "csharp"
    },
    "polyglot_notebook": {
     "kernelName": "csharp"
    },
    "vscode": {
     "languageId": "polyglot-notebook"
    }
   },
   "outputs": [
    {
     "name": "stdout",
     "output_type": "stream",
     "text": [
      "User brody675 created!\n",
      "User jared123 created!\n",
      "Pantry node brody675Pantry created!\n",
      "Pantry node jared123Pantry created!\n",
      "Cuisine node Staple created!\n",
      "Recipe brody675BananaBread created!\n",
      "Recipe brody675GrilledCheese created!\n",
      "Recipe brody675Chili created!\n",
      "Ingredient node Flour created!\n",
      "Parent node brody675BananaBread connected to Flour!\n",
      "Ingredient node Baking Soda created!\n",
      "Parent node brody675BananaBread connected to Baking Soda!\n",
      "Ingredient node Salt created!\n",
      "Parent node brody675BananaBread connected to Salt!\n",
      "Ingredient node Brown Sugar created!\n",
      "Parent node brody675BananaBread connected to Brown Sugar!\n",
      "Ingredient node Butter created!\n",
      "Parent node brody675BananaBread connected to Butter!\n",
      "Ingredient node Eggs created!\n",
      "Parent node brody675BananaBread connected to Eggs!\n",
      "Ingredient node Bananas created!\n",
      "Parent node brody675BananaBread connected to Bananas!\n",
      "Ingredient node White Bread created!\n",
      "Parent node brody675GrilledCheese connected to White Bread!\n",
      "Ingredient node Butter created!\n",
      "Parent node brody675GrilledCheese connected to Butter!\n",
      "Ingredient node Cheddar Cheese created!\n",
      "Parent node brody675GrilledCheese connected to Cheddar Cheese!\n",
      "Ingredient node Beef created!\n",
      "Parent node brody675Chili connected to Beef!\n",
      "Ingredient node Onion created!\n",
      "Parent node brody675Chili connected to Onion!\n",
      "Ingredient node Tomato Sauce created!\n",
      "Parent node brody675Chili connected to Tomato Sauce!\n",
      "Ingredient node Kidney Beans created!\n",
      "Parent node brody675Chili connected to Kidney Beans!\n",
      "Ingredient node Can Stewed Tomatos created!\n",
      "Parent node brody675Chili connected to Can Stewed Tomatos!\n",
      "Ingredient node Water created!\n",
      "Parent node brody675Chili connected to Water!\n",
      "Ingredient node Chili Powder created!\n",
      "Parent node brody675Chili connected to Chili Powder!\n",
      "Ingredient node Garlic Powder created!\n",
      "Parent node brody675Chili connected to Garlic Powder!\n",
      "Ingredient node Black Pepper created!\n",
      "Parent node brody675Chili connected to Black Pepper!\n",
      "Ingredient node Salt created!\n",
      "Parent node brody675Chili connected to Salt!\n",
      "Step 1 created for brody675GrilledCheese!\n",
      "Step 2 created for brody675GrilledCheese!\n",
      "Tag brody675 created and connected to SpicyChili!\n",
      "Group node Senior Project created!\n",
      "Found 3 recipes for user brody675!\n",
      "brody675BananaBread\n",
      "brody675GrilledCheese\n",
      "brody675Chili\n"
     ]
    }
   ],
   "source": [
    "// // Jared Server Login Info\n",
    "// var URI = \"bolt://zelpa.net:7687\";\n",
    "// var USERNAME = \"neo4j\";\n",
    "// var PASSWORD = \"55QvQu95HG\";\n",
    "\n",
    "// Brody's localhost login\n",
    "var URI = \"bolt://localhost:7687\";\n",
    "var USERNAME = \"neo4j\";\n",
    "var PASSWORD = \"recipeApp\";\n",
    "\n",
    "var driver = Neo4jConnection.ConnectDatabase(URI, USERNAME, PASSWORD);\n",
    "\n",
    "// Creates a Single User Node\n",
    "await CreateUserNode(driver, user1Data);\n",
    "await CreateUserNode(driver, user2Data);\n",
    "\n",
    "await CreatePantryNode(driver, user1Data[\"username\"]);\n",
    "await CreatePantryNode(driver, user2Data[\"username\"]);\n",
    "\n",
    "await CreateCuisineNode(driver, \"Staple\");\n",
    "\n",
    "await CreateRecipeNode(driver, user1Data[\"username\"], recipe1Data);\n",
    "await CreateRecipeNode(driver, user1Data[\"username\"], recipe2Data);\n",
    "await CreateRecipeNode(driver, user1Data[\"username\"], recipe3Data);\n",
    "\n",
    "// This is currently creating duplicate ingredients it still needs to be fixed\n",
    "foreach (var ingredient in ingredients1)\n",
    "{\n",
    "    await CreateIngredientNode(driver, user1Data[\"username\"], ingredient);\n",
    "    await ConnectIngredientNode(driver, user1Data[\"username\"], recipe1Data[\"name\"], ingredient);\n",
    "    \n",
    "}\n",
    "foreach (var ingredient in ingredients2)\n",
    "{\n",
    "    await CreateIngredientNode(driver, user1Data[\"username\"], ingredient);\n",
    "    await ConnectIngredientNode(driver, user1Data[\"username\"], recipe2Data[\"name\"], ingredient);\n",
    "}\n",
    "foreach (var ingredient in ingredients3)\n",
    "{\n",
    "    await CreateIngredientNode(driver, user1Data[\"username\"], ingredient);\n",
    "    await ConnectIngredientNode(driver, user1Data[\"username\"], recipe3Data[\"name\"], ingredient);\n",
    "\n",
    "}\n",
    "\n",
    "await CreateStepNode(driver, user1Data[\"username\"], step1Data, recipe2Data[\"name\"]);\n",
    "await CreateStepNode(driver, user1Data[\"username\"], step2Data, recipe2Data[\"name\"]);\n",
    "\n",
    "await CreateTagNode(driver, user1Data[\"username\"], recipe3Data[\"name\"], tag);\n",
    "\n",
    "await CreateGroupNode(driver, \"Senior Project\");\n",
    "\n",
    "var recipes = await GetRecipeNodes(driver, user1Data[\"username\"]);\n",
    "\n",
    "foreach (var recipe in recipes)\n",
    "{\n",
    "    Console.WriteLine(recipe);\n",
    "}"
   ]
  }
 ],
 "metadata": {
  "kernelspec": {
   "display_name": ".NET (C#)",
   "language": "C#",
   "name": ".net-csharp"
  },
  "language_info": {
   "file_extension": ".ps1",
   "mimetype": "text/x-powershell",
   "name": "PowerShell",
   "pygments_lexer": "powershell",
   "version": "7.0"
  },
  "polyglot_notebook": {
   "kernelInfo": {
    "defaultKernelName": "csharp",
    "items": [
     {
      "aliases": [],
      "name": "csharp"
     }
    ]
   }
  }
 },
 "nbformat": 4,
 "nbformat_minor": 2
}
