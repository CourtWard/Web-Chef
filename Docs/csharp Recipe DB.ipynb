{
 "cells": [
  {
   "cell_type": "markdown",
   "metadata": {},
   "source": [
    "# Required Libraries\n",
    "\n",
    "#### Make sure to change Jupyter Notebook Kernel to .NET Interactive for csharp"
   ]
  },
  {
   "cell_type": "code",
   "execution_count": 1,
   "metadata": {
    "dotnet_interactive": {
     "language": "csharp"
    },
    "polyglot_notebook": {
     "kernelName": "csharp"
    },
    "vscode": {
     "languageId": "polyglot-notebook"
    }
   },
   "outputs": [
    {
     "data": {
      "text/html": [
       "<div><div></div><div></div><div><strong>Installed Packages</strong><ul><li><span>Neo4j.Driver, 5.25.0</span></li></ul></div></div>"
      ]
     },
     "metadata": {},
     "output_type": "display_data"
    }
   ],
   "source": [
    "// dotnet tool install --global Microsoft.dotnet-interactive\n",
    "\n",
    "// dotnet interactive jupyter install\n",
    "\n",
    "// dotnet add package Neo4j.Driver --version 5.25.0\n",
    "\n",
    "#r \"nuget: Neo4j.Driver, 5.25.0\"\n"
   ]
  },
  {
   "cell_type": "markdown",
   "metadata": {},
   "source": [
    "# Open Database Connection"
   ]
  },
  {
   "cell_type": "code",
   "execution_count": 2,
   "metadata": {
    "dotnet_interactive": {
     "language": "csharp"
    },
    "polyglot_notebook": {
     "kernelName": "csharp"
    },
    "vscode": {
     "languageId": "polyglot-notebook"
    }
   },
   "outputs": [],
   "source": [
    "using Neo4j.Driver;\n",
    "\n",
    "public class Neo4jConnection\n",
    "{\n",
    "    private static IDriver driver;\n",
    "\n",
    "    public static IDriver ConnectDatabase(string uri, string username, string password)\n",
    "    {\n",
    "        driver = GraphDatabase.Driver(uri, AuthTokens.Basic(username, password));\n",
    "        return driver;\n",
    "    }\n",
    "\n",
    "    public static void CloseConnection()\n",
    "    {\n",
    "        driver?.Dispose();\n",
    "    }\n",
    "}\n"
   ]
  },
  {
   "cell_type": "code",
   "execution_count": 3,
   "metadata": {
    "dotnet_interactive": {
     "language": "csharp"
    },
    "polyglot_notebook": {
     "kernelName": "csharp"
    },
    "vscode": {
     "languageId": "polyglot-notebook"
    }
   },
   "outputs": [],
   "source": [
    "public async Task CreateUserNode(IDriver driver, Dictionary<string, string> userData)\n",
    "{\n",
    "    var query = @\"\n",
    "    CREATE (u:User {\n",
    "        username: $username, \n",
    "        name: $name, \n",
    "        email: $email, \n",
    "        phone: $phone\n",
    "    })\n",
    "    \";\n",
    "\n",
    "    // Run the query with the parameters\n",
    "    var session = driver.AsyncSession();  // Open a session for Neo4j\n",
    "    try\n",
    "    {\n",
    "        await session.RunAsync(query, new { \n",
    "            username = userData[\"username\"], \n",
    "            name = userData[\"name\"], \n",
    "            email = userData[\"email\"], \n",
    "            phone = userData[\"phone\"]\n",
    "        });\n",
    "        Console.WriteLine($\"User {userData[\"username\"]} created!\");\n",
    "    }\n",
    "    finally\n",
    "    {\n",
    "        await session.CloseAsync();  // Ensure session is closed after query\n",
    "    }\n",
    "}"
   ]
  },
  {
   "cell_type": "code",
   "execution_count": 4,
   "metadata": {
    "dotnet_interactive": {
     "language": "csharp"
    },
    "polyglot_notebook": {
     "kernelName": "csharp"
    },
    "vscode": {
     "languageId": "polyglot-notebook"
    }
   },
   "outputs": [],
   "source": [
    "// Sample user data dictionary\n",
    "var user1Data = new Dictionary<string, string> {\n",
    "    { \"username\", \"brody675\" },\n",
    "    { \"name\", \"Brody\" },\n",
    "    { \"email\", \"brodykerr675@gmail.com\" },\n",
    "    { \"phone\", \"832-600-8473\" }\n",
    "};"
   ]
  },
  {
   "cell_type": "code",
   "execution_count": 5,
   "metadata": {
    "dotnet_interactive": {
     "language": "csharp"
    },
    "polyglot_notebook": {
     "kernelName": "csharp"
    },
    "vscode": {
     "languageId": "polyglot-notebook"
    }
   },
   "outputs": [
    {
     "name": "stdout",
     "output_type": "stream",
     "text": [
      "User brody675 created!\n"
     ]
    }
   ],
   "source": [
    "// Jared Server Login Info\n",
    "// var URI = \"bolt://zelpa.net:7687\";\n",
    "// var USERNAME = \"neo4j\";\n",
    "// var PASSWORD = \"55QvQu95HG\";\n",
    "\n",
    "// Brody's localhost login\n",
    "var URI = \"bolt://localhost:7687\";\n",
    "var USERNAME = \"neo4j\";\n",
    "var PASSWORD = \"recipeApp\";\n",
    "\n",
    "var driver = Neo4jConnection.ConnectDatabase(URI, USERNAME, PASSWORD);\n",
    "\n",
    "// Creates a Single User Node\n",
    "await CreateUserNode(driver, user1Data);"
   ]
  }
 ],
 "metadata": {
  "kernelspec": {
   "display_name": ".NET (C#)",
   "language": "C#",
   "name": ".net-csharp"
  },
  "language_info": {
   "file_extension": ".ps1",
   "mimetype": "text/x-powershell",
   "name": "PowerShell",
   "pygments_lexer": "powershell",
   "version": "7.0"
  },
  "polyglot_notebook": {
   "kernelInfo": {
    "defaultKernelName": "csharp",
    "items": [
     {
      "aliases": [],
      "name": "csharp"
     }
    ]
   }
  }
 },
 "nbformat": 4,
 "nbformat_minor": 2
}
