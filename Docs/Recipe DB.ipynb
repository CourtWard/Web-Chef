{
 "cells": [
  {
   "cell_type": "markdown",
   "metadata": {},
   "source": [
    "# Open Database Connection"
   ]
  },
  {
   "cell_type": "code",
   "execution_count": 1019,
   "metadata": {},
   "outputs": [],
   "source": [
    "from neo4j import GraphDatabase"
   ]
  },
  {
   "cell_type": "code",
   "execution_count": 1020,
   "metadata": {},
   "outputs": [],
   "source": [
    "def connect_database(URI, AUTH):\n",
    "    driver = GraphDatabase.driver(URI, auth=AUTH)\n",
    "    driver.verify_connectivity()  # Verify connection once the driver is created\n",
    "    return driver"
   ]
  },
  {
   "cell_type": "code",
   "execution_count": 1021,
   "metadata": {},
   "outputs": [],
   "source": [
    "# URI = \"bolt://zelpa.net:7687\"\n",
    "# AUTH = (\"neo4j\", \"55QvQu95HG\")\n",
    "URI = \"bolt://localhost:7687\"\n",
    "AUTH = (\"neo4j\", \"recipeApp\")"
   ]
  },
  {
   "cell_type": "code",
   "execution_count": 1022,
   "metadata": {},
   "outputs": [],
   "source": [
    "driver = connect_database(URI, AUTH)"
   ]
  },
  {
   "cell_type": "code",
   "execution_count": 1023,
   "metadata": {},
   "outputs": [
    {
     "name": "stdout",
     "output_type": "stream",
     "text": [
      "Deleted 30 nodes from the database.\n"
     ]
    }
   ],
   "source": [
    "query = \"MATCH (n) DETACH DELETE n\"\n",
    "with driver.session() as session:\n",
    "    result = session.run(query)\n",
    "    summary = result.consume()  # Get the summary of the execution\n",
    "\n",
    "# Print the number of nodes deleted\n",
    "print(f\"Deleted {summary.counters.nodes_deleted} nodes from the database.\")\n"
   ]
  },
  {
   "cell_type": "markdown",
   "metadata": {},
   "source": [
    "# User"
   ]
  },
  {
   "cell_type": "code",
   "execution_count": 1024,
   "metadata": {},
   "outputs": [],
   "source": [
    "def create_user_node(driver, user_data):\n",
    "    query = '''\n",
    "    CREATE (u:User {\n",
    "        username: $username, \n",
    "        name: $name, \n",
    "        email: $email, \n",
    "        phone: $phone\n",
    "    })\n",
    "    '''\n",
    "    \n",
    "    # Run the query with the parameters\n",
    "    with driver.session() as session:\n",
    "        session.run(query, \n",
    "                    username=user_data['username'], \n",
    "                    name=user_data['name'], \n",
    "                    email=user_data['email'], \n",
    "                    phone=user_data['phone'])\n",
    "    \n",
    "    print(f\"User {user_data['username']} created!\")"
   ]
  },
  {
   "cell_type": "markdown",
   "metadata": {},
   "source": [
    "The data below would be gathered from the website "
   ]
  },
  {
   "cell_type": "code",
   "execution_count": 1025,
   "metadata": {},
   "outputs": [],
   "source": [
    "user1_data = {\n",
    "    'username': 'brody675',\n",
    "    'name': 'Brody',\n",
    "    'email': 'brodykerr675@gmail.com',\n",
    "    'phone': '832-600-8473'\n",
    "}\n",
    "\n",
    "user2_data = {\n",
    "    'username': 'jared123',\n",
    "    'name': 'Jared',\n",
    "    'email': 'jared123@gmail.com',\n",
    "    'phone': '123-456-7890'\n",
    "}"
   ]
  },
  {
   "cell_type": "code",
   "execution_count": 1026,
   "metadata": {},
   "outputs": [
    {
     "name": "stdout",
     "output_type": "stream",
     "text": [
      "User brody675 created!\n",
      "User jared123 created!\n"
     ]
    }
   ],
   "source": [
    "create_user_node(driver, user1_data)\n",
    "create_user_node(driver, user2_data)"
   ]
  },
  {
   "cell_type": "markdown",
   "metadata": {},
   "source": [
    "# Pantry\n",
    "#### Node automatically connected to other nodes"
   ]
  },
  {
   "cell_type": "code",
   "execution_count": 1027,
   "metadata": {},
   "outputs": [],
   "source": [
    "def create_pantry_node(driver, user):\n",
    "    query = '''\n",
    "    MATCH (user:User{username: $user})\n",
    "    CREATE (pantry:Pantry {name: $pantryName})\n",
    "    CREATE (user)-[:OWNS]->(pantry)\n",
    "    '''\n",
    "    pantry_name = user + \"Pantry\"\n",
    "    with driver.session() as session:\n",
    "        session.run(query, pantryName=pantry_name, user=user)\n",
    "    print(f\"Pantry node {pantry_name} created!\")"
   ]
  },
  {
   "cell_type": "code",
   "execution_count": 1028,
   "metadata": {},
   "outputs": [
    {
     "name": "stdout",
     "output_type": "stream",
     "text": [
      "Pantry node brody675Pantry created!\n",
      "Pantry node jared123Pantry created!\n"
     ]
    }
   ],
   "source": [
    "create_pantry_node(driver, user1_data['username'])\n",
    "create_pantry_node(driver, user2_data['username'])"
   ]
  },
  {
   "cell_type": "markdown",
   "metadata": {},
   "source": [
    "# Cuisine\n",
    "#### Shouldn't need to run based off user interaction they should already be in database the user will only be creating the connections to the them"
   ]
  },
  {
   "cell_type": "code",
   "execution_count": 1029,
   "metadata": {},
   "outputs": [],
   "source": [
    "def create_cuisine_node(driver, cuisine):\n",
    "    query = \"CREATE (cuisine:Cuisine {name: $cuisineName})\"\n",
    "    with driver.session() as session:\n",
    "        session.run(query, cuisineName=cuisine)\n",
    "    print(f\"Cuisine node {cuisine} created!\")"
   ]
  },
  {
   "cell_type": "code",
   "execution_count": 1030,
   "metadata": {},
   "outputs": [
    {
     "name": "stdout",
     "output_type": "stream",
     "text": [
      "Cuisine node Staple created!\n"
     ]
    }
   ],
   "source": [
    "create_cuisine_node(driver, \"Staple\")"
   ]
  },
  {
   "cell_type": "markdown",
   "metadata": {},
   "source": [
    "# Recipe"
   ]
  },
  {
   "cell_type": "code",
   "execution_count": 1031,
   "metadata": {},
   "outputs": [],
   "source": [
    "def create_recipe_node(driver, user, recipe_data):\n",
    "    query = '''\n",
    "    CREATE (recipe:Recipe {\n",
    "        name: $recipeName, \n",
    "        title: $title, \n",
    "        description: $description\n",
    "    })\n",
    "    '''\n",
    "    recipe_name = user + recipe_data['name']\n",
    "    \n",
    "    # Run the query with the parameters\n",
    "    with driver.session() as session:\n",
    "        session.run(query, \n",
    "                    recipeName=recipe_name, \n",
    "                    title=recipe_data['title'], \n",
    "                    description=recipe_data['description'])\n",
    "    \n",
    "    print(f\"Recipe {recipe_name} created!\")"
   ]
  },
  {
   "cell_type": "markdown",
   "metadata": {},
   "source": [
    "The data below would be gathered from the website "
   ]
  },
  {
   "cell_type": "code",
   "execution_count": 1032,
   "metadata": {},
   "outputs": [],
   "source": [
    "recipe1_data = {\n",
    "    'name': 'BananaBread',\n",
    "    'title': 'Brodys Favorite Banana Bread',\n",
    "    'description': 'Has good moistness will save for future'\n",
    "}\n",
    "recipe2_data = {\n",
    "    'name': 'GrilledCheese',\n",
    "    'title': 'Brodys Favorite Sammich',\n",
    "    'description': 'Very cheesy and crispy :)'\n",
    "}\n",
    "recipe3_data = {\n",
    "    'name': 'Chili',\n",
    "    'title': 'Brodys Favorite Chili',\n",
    "    'description': 'Very spicy'\n",
    "}"
   ]
  },
  {
   "cell_type": "code",
   "execution_count": 1033,
   "metadata": {},
   "outputs": [
    {
     "name": "stdout",
     "output_type": "stream",
     "text": [
      "Recipe brody675BananaBread created!\n",
      "Recipe brody675GrilledCheese created!\n",
      "Recipe brody675Chili created!\n"
     ]
    }
   ],
   "source": [
    "create_recipe_node(driver, user1_data['username'], recipe1_data)\n",
    "create_recipe_node(driver, user1_data['username'], recipe2_data)\n",
    "create_recipe_node(driver, user1_data['username'], recipe3_data)"
   ]
  },
  {
   "cell_type": "markdown",
   "metadata": {},
   "source": [
    "# Ingredient\n",
    "#### Shouldn't need to run based off user interaction they should already be in database the user will only be creating the connections to the them"
   ]
  },
  {
   "cell_type": "code",
   "execution_count": 1034,
   "metadata": {},
   "outputs": [],
   "source": [
    "def create_ingredient_node(driver, ingredient):\n",
    "    query = \"CREATE (ingredient:Ingredient {name: $ingredientName})\"\n",
    "    with driver.session() as session:\n",
    "        session.run(query, ingredientName=ingredient)\n",
    "    print(f\"Ingredient node {ingredient} created!\")"
   ]
  },
  {
   "cell_type": "code",
   "execution_count": 1035,
   "metadata": {},
   "outputs": [
    {
     "name": "stdout",
     "output_type": "stream",
     "text": [
      "Ingredient node Flour created!\n",
      "Ingredient node Baking Soda created!\n",
      "Ingredient node Salt created!\n",
      "Ingredient node Butter created!\n",
      "Ingredient node Brown Sugar created!\n",
      "Ingredient node Eggs created!\n",
      "Ingredient node Bananas created!\n",
      "Ingredient node White Bread created!\n",
      "Ingredient node Cheddar Cheese created!\n",
      "Ingredient node Beef created!\n",
      "Ingredient node Onion created!\n",
      "Ingredient node Tomato Sauce created!\n",
      "Ingredient node Kindey Beans created!\n",
      "Ingredient node Chili Powder created!\n",
      "Ingredient node Garlic Powder created!\n",
      "Ingredient node Black Pepper created!\n"
     ]
    }
   ],
   "source": [
    "create_ingredient_node(driver, \"Flour\")\n",
    "create_ingredient_node(driver, \"Baking Soda\")\n",
    "create_ingredient_node(driver, \"Salt\")\n",
    "create_ingredient_node(driver, \"Butter\")\n",
    "create_ingredient_node(driver, \"Brown Sugar\")\n",
    "create_ingredient_node(driver, \"Eggs\")\n",
    "create_ingredient_node(driver, \"Bananas\")\n",
    "create_ingredient_node(driver, \"White Bread\")\n",
    "create_ingredient_node(driver, \"Cheddar Cheese\")\n",
    "create_ingredient_node(driver, \"Beef\")\n",
    "create_ingredient_node(driver, \"Onion\")\n",
    "create_ingredient_node(driver, \"Tomato Sauce\")\n",
    "create_ingredient_node(driver, \"Kindey Beans\")\n",
    "create_ingredient_node(driver, \"Chili Powder\")\n",
    "create_ingredient_node(driver, \"Garlic Powder\")\n",
    "create_ingredient_node(driver, \"Black Pepper\")"
   ]
  },
  {
   "cell_type": "markdown",
   "metadata": {},
   "source": [
    "# Tools\n",
    "\n",
    "#### Utensils used in creating recipe"
   ]
  },
  {
   "cell_type": "code",
   "execution_count": null,
   "metadata": {},
   "outputs": [],
   "source": []
  },
  {
   "cell_type": "markdown",
   "metadata": {},
   "source": [
    "# Group"
   ]
  },
  {
   "cell_type": "code",
   "execution_count": 1036,
   "metadata": {},
   "outputs": [],
   "source": [
    "def create_group_node(driver, group):\n",
    "    query = \"CREATE (group:Group {name: $groupName})\"\n",
    "    with driver.session() as session:\n",
    "        session.run(query, groupName=group)\n",
    "    print(f\"Group node {group} created!\")"
   ]
  },
  {
   "cell_type": "code",
   "execution_count": 1037,
   "metadata": {},
   "outputs": [
    {
     "name": "stdout",
     "output_type": "stream",
     "text": [
      "Group node Senior Project created!\n"
     ]
    }
   ],
   "source": [
    "create_group_node(driver, \"Senior Project\")"
   ]
  },
  {
   "cell_type": "markdown",
   "metadata": {},
   "source": [
    "# Shopping List"
   ]
  },
  {
   "cell_type": "code",
   "execution_count": 1038,
   "metadata": {},
   "outputs": [],
   "source": [
    "def create_shopping_list_node(driver, user):\n",
    "    query = \"CREATE (shoppinglist:ShopingList {name: $shoppinglistName})\"\n",
    "    shopping_list_name = user + \"ShoppingList\"\n",
    "    with driver.session() as session:\n",
    "        session.run(query, shoppinglistName=shopping_list_name)\n",
    "    print(f\"Shopping List node {shopping_list_name} created!\")"
   ]
  },
  {
   "cell_type": "code",
   "execution_count": 1039,
   "metadata": {},
   "outputs": [
    {
     "name": "stdout",
     "output_type": "stream",
     "text": [
      "Shopping List node brody675ShoppingList created!\n"
     ]
    }
   ],
   "source": [
    "create_shopping_list_node(driver, user1_data['username'])"
   ]
  },
  {
   "cell_type": "markdown",
   "metadata": {},
   "source": [
    "# Meal"
   ]
  },
  {
   "cell_type": "code",
   "execution_count": 1040,
   "metadata": {},
   "outputs": [],
   "source": [
    "def create_meal_node(driver, user, meal):\n",
    "    query = '''\n",
    "            CREATE (meal:Meal {\n",
    "                name: $mealName,\n",
    "                title: $meal\n",
    "                })\n",
    "            '''\n",
    "    meal_name = user + meal\n",
    "    with driver.session() as session:\n",
    "        session.run(query, \n",
    "                    mealName=meal_name,\n",
    "                    meal=meal)\n",
    "    print(f\"Meal node {meal_name} created!\")"
   ]
  },
  {
   "cell_type": "code",
   "execution_count": 1041,
   "metadata": {},
   "outputs": [],
   "source": [
    "def connect_meal_node(driver, user, meal, recipe):\n",
    "    query = '''\n",
    "            MATCH (meal:Meal{name:$mealName})\n",
    "            MATCH (recipe:Recipe{name:$recipeName})\n",
    "            CREATE (meal)-[:MADE_WITH]->(recipe)\n",
    "            '''\n",
    "    meal_name = user + meal\n",
    "    recipe_name = user + recipe\n",
    "    with driver.session() as session:\n",
    "        session.run(query, \n",
    "                    mealName=meal_name,\n",
    "                    recipeName=recipe_name)\n",
    "    print(f\"Meal node {meal_name} connected to {recipe}!\")"
   ]
  },
  {
   "cell_type": "code",
   "execution_count": 1042,
   "metadata": {},
   "outputs": [],
   "source": [
    "meal1_data = ['GrilledCheese', 'Chili']\n",
    "meal1_title = \"Grilled Cheese w/Chili\""
   ]
  },
  {
   "cell_type": "code",
   "execution_count": 1043,
   "metadata": {},
   "outputs": [
    {
     "name": "stdout",
     "output_type": "stream",
     "text": [
      "Meal node brody675Grilled Cheese w/Chili created!\n",
      "Meal node brody675Grilled Cheese w/Chili connected to GrilledCheese!\n",
      "Meal node brody675Grilled Cheese w/Chili connected to Chili!\n"
     ]
    }
   ],
   "source": [
    "create_meal_node(driver, user1_data['username'], meal1_title)\n",
    "for recipe in meal1_data:\n",
    "    connect_meal_node(driver, user1_data['username'], meal1_title, recipe)"
   ]
  },
  {
   "cell_type": "markdown",
   "metadata": {},
   "source": [
    "# Meal Plan"
   ]
  },
  {
   "cell_type": "code",
   "execution_count": null,
   "metadata": {},
   "outputs": [],
   "source": []
  },
  {
   "cell_type": "markdown",
   "metadata": {},
   "source": [
    "# Step"
   ]
  },
  {
   "cell_type": "code",
   "execution_count": 1044,
   "metadata": {},
   "outputs": [],
   "source": [
    "def create_step_node(driver, user, recipe, step_data):\n",
    "    query = '''\n",
    "    CREATE (step:Step {\n",
    "        name: $stepName, \n",
    "        description: $description,\n",
    "        order: $order\n",
    "    })\n",
    "    '''\n",
    "    step_name = user + recipe + \"Step\" + step_data['order']\n",
    "    with driver.session() as session:\n",
    "        session.run(query, \n",
    "                    stepName=step_name, \n",
    "                    description=step_data['description'],\n",
    "                    order=step_data['order'])\n",
    "    \n",
    "    print(f\"Step {step_name} created!\")"
   ]
  },
  {
   "cell_type": "code",
   "execution_count": 1045,
   "metadata": {},
   "outputs": [],
   "source": [
    "step1_data = {\n",
    "    'order': '1',\n",
    "    'description': 'Preheat a nonstick skillet over medium heat. Generously butter one side of a slice of bread. Place bread butter-side down in the hot skillet; add 1 slice of cheese. Butter a second slice of bread on one side and place butter-side up on top of cheese.'\n",
    "}\n",
    "step2_data = {\n",
    "    'order': '2',\n",
    "    'description': 'Cook until lightly browned on one side; flip over and continue cooking until cheese is melted. Repeat with remaining 2 slices of bread, butter, and slice of cheese.'\n",
    "}"
   ]
  },
  {
   "cell_type": "code",
   "execution_count": 1046,
   "metadata": {},
   "outputs": [
    {
     "name": "stdout",
     "output_type": "stream",
     "text": [
      "Step brody675GrilledCheeseStep1 created!\n",
      "Step brody675GrilledCheeseStep2 created!\n"
     ]
    }
   ],
   "source": [
    "create_step_node(driver, user1_data['username'], recipe2_data['name'], step1_data)\n",
    "create_step_node(driver, user1_data['username'], recipe2_data['name'], step2_data)"
   ]
  },
  {
   "cell_type": "markdown",
   "metadata": {},
   "source": [
    "# Tag\n",
    "\n",
    "#### Node automatically connected to other nodes"
   ]
  },
  {
   "cell_type": "code",
   "execution_count": 1047,
   "metadata": {},
   "outputs": [],
   "source": [
    "def create_tag_node(driver, user, recipe, tag):\n",
    "    query = '''\n",
    "    MATCH (recipe:Recipe{name: $recipeName})\n",
    "    CREATE (tag:Tag {\n",
    "                    name: $tagName, \n",
    "                    title: $tag\n",
    "                    })\n",
    "    CREATE (tag)-[:DESCRIBES]->(recipe)\n",
    "    '''\n",
    "    recipe_name = user + recipe\n",
    "    tag_name = recipe_name + tag\n",
    "    with driver.session() as session:\n",
    "        session.run(query, \n",
    "                    recipeName=recipe_name,\n",
    "                    tag=tag,\n",
    "                    tagName=tag_name)\n",
    "    \n",
    "    print(f\"Tag {tag_name} created!\")"
   ]
  },
  {
   "cell_type": "code",
   "execution_count": 1048,
   "metadata": {},
   "outputs": [
    {
     "name": "stdout",
     "output_type": "stream",
     "text": [
      "Tag brody675ChiliSpicy created!\n"
     ]
    }
   ],
   "source": [
    "create_tag_node(driver, user1_data['username'], recipe3_data['name'], \"Spicy\")"
   ]
  },
  {
   "cell_type": "markdown",
   "metadata": {},
   "source": [
    "# Relationships"
   ]
  },
  {
   "cell_type": "code",
   "execution_count": 1049,
   "metadata": {},
   "outputs": [],
   "source": [
    "# query = \"MATCH \"\n",
    "# with driver.session() as session:\n",
    "# result = session.run(query)\n",
    "# summary = result.consume()  # Get the summary of the execution\n",
    "\n",
    "# # Print the number of nodes deleted\n",
    "# print(f\"Deleted {summary.counters.nodes_deleted} nodes from the database.\")"
   ]
  },
  {
   "cell_type": "markdown",
   "metadata": {},
   "source": [
    "# Close Database Connection"
   ]
  },
  {
   "cell_type": "code",
   "execution_count": 1050,
   "metadata": {},
   "outputs": [],
   "source": [
    "driver.close()"
   ]
  }
 ],
 "metadata": {
  "kernelspec": {
   "display_name": "Python 3",
   "language": "python",
   "name": "python3"
  },
  "language_info": {
   "codemirror_mode": {
    "name": "ipython",
    "version": 3
   },
   "file_extension": ".py",
   "mimetype": "text/x-python",
   "name": "python",
   "nbconvert_exporter": "python",
   "pygments_lexer": "ipython3",
   "version": "3.9.19"
  }
 },
 "nbformat": 4,
 "nbformat_minor": 2
}
